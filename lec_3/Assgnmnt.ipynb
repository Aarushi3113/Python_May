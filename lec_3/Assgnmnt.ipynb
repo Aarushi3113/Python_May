{
 "cells": [
  {
   "cell_type": "markdown",
   "metadata": {},
   "source": [
    "## Age wala question"
   ]
  },
  {
   "cell_type": "code",
   "execution_count": 1,
   "metadata": {},
   "outputs": [
    {
     "name": "stdin",
     "output_type": "stream",
     "text": [
      "Tell your age 20\n",
      " Prashant\n",
      "current year 2020\n"
     ]
    },
    {
     "name": "stdout",
     "output_type": "stream",
     "text": [
      "My name is is Prashant and i will turn 100 year in 2100\n"
     ]
    }
   ],
   "source": [
    "age = int(input(\"Tell your age\"))\n",
    "name = input()\n",
    "current_year = int(input(\"current year\"))\n",
    "\n",
    "turn_100 = current_year - age + 100\n",
    "print(\"My name is is\", name, \"and i will turn 100 year in\", turn_100)"
   ]
  },
  {
   "cell_type": "code",
   "execution_count": 5,
   "metadata": {},
   "outputs": [
    {
     "data": {
      "text/plain": [
       "6"
      ]
     },
     "execution_count": 5,
     "metadata": {},
     "output_type": "execute_result"
    }
   ],
   "source": [
    "a = 234345\n",
    "s = str(a)\n",
    "len(s)"
   ]
  },
  {
   "cell_type": "code",
   "execution_count": 6,
   "metadata": {},
   "outputs": [
    {
     "data": {
      "text/plain": [
       "6"
      ]
     },
     "execution_count": 6,
     "metadata": {},
     "output_type": "execute_result"
    }
   ],
   "source": [
    "count = 0\n",
    "for i in s:\n",
    "    count += 1\n",
    "count"
   ]
  },
  {
   "cell_type": "code",
   "execution_count": null,
   "metadata": {},
   "outputs": [
    {
     "name": "stdin",
     "output_type": "stream",
     "text": [
      "coeff of x2 32\n",
      "coeff of x 43\n"
     ]
    }
   ],
   "source": [
    "a = int(input(\"coeff of x2\"))\n",
    "b = int(input(\"coeff of x\"))\n",
    "c = int(input(\"constant\"))\n",
    "\n",
    "d = (b ** 2) - (4 * a * c)\n",
    "x1 = (-b + d ** (1/2))/2 * a\n",
    "x2 = (-b - d ** (1/2))/2 * a\n",
    "\n",
    "print(\"The roots of our equation are\", x1, x2)"
   ]
  },
  {
   "cell_type": "markdown",
   "metadata": {},
   "source": []
  }
 ],
 "metadata": {
  "kernelspec": {
   "display_name": "Python 3",
   "language": "python",
   "name": "python3"
  },
  "language_info": {
   "codemirror_mode": {
    "name": "ipython",
    "version": 3
   },
   "file_extension": ".py",
   "mimetype": "text/x-python",
   "name": "python",
   "nbconvert_exporter": "python",
   "pygments_lexer": "ipython3",
   "version": "3.7.1"
  }
 },
 "nbformat": 4,
 "nbformat_minor": 2
}
